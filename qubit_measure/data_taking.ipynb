{
 "cells": [
  {
   "cell_type": "markdown",
   "metadata": {},
   "source": [
    "## Data taking\n",
    "This notebook imports the classes for instrumentation control. <br>\n",
    "Use this notebook for setting up measurements."
   ]
  },
  {
   "cell_type": "code",
   "execution_count": 2,
   "metadata": {},
   "outputs": [
    {
     "name": "stdout",
     "output_type": "stream",
     "text": [
      "COM36\n"
     ]
    }
   ],
   "source": [
    "import sys\n",
    "sys.path.insert(0, \"modules\")\n",
    "import vna # For reading the resonator\n",
    "import sma # Can be use as the pump for the parametric amplifier or the qubit drive.\n",
    "import phase_matrix # The qubit drive if SMA cannot be the drive.\n",
    "import pyvisa\n",
    "from RsInstrument import *\n",
    "import time"
   ]
  },
  {
   "cell_type": "code",
   "execution_count": 10,
   "metadata": {},
   "outputs": [],
   "source": [
    "\"\"\" The parametric amplifier should improve the S/N ratio. But for simplicity we may not use it.\n",
    "use_paramp = True - SMA is loaded as pump, Phase Matrix as drive.\n",
    "use_paramp = False - SMA is loaded as drive, Phase Matrix is not loaded.\n",
    "\"\"\"\n",
    "use_paramp = False"
   ]
  },
  {
   "cell_type": "code",
   "execution_count": 11,
   "metadata": {},
   "outputs": [
    {
     "ename": "ResourceError",
     "evalue": "Insufficient location information or the requested device or resource is not present in the system.\nLibrary: Visa Library at C:\\Windows\\system32\\visa32.dll\nManufacturer: National Instruments\nResource Name: 'TCPIP0::192.168.3.2::INSTR'",
     "output_type": "error",
     "traceback": [
      "\u001b[1;31m---------------------------------------------------------------------------\u001b[0m",
      "\u001b[1;31mVisaIOError\u001b[0m                               Traceback (most recent call last)",
      "File \u001b[1;32mc:\\Users\\oper\\AppData\\Local\\Programs\\Python\\Python38\\lib\\site-packages\\RsInstrument\\Internal\\VisaSession.py:109\u001b[0m, in \u001b[0;36mVisaSession.__init__\u001b[1;34m(self, resource_name, settings, direct_session)\u001b[0m\n\u001b[0;32m    108\u001b[0m \tacc_mode \u001b[39m=\u001b[39m pyvisa\u001b[39m.\u001b[39mconstants\u001b[39m.\u001b[39mAccessModes\u001b[39m.\u001b[39mno_lock \u001b[39mif\u001b[39;00m settings\u001b[39m.\u001b[39mexclusive_lock \u001b[39mis\u001b[39;00m \u001b[39mFalse\u001b[39;00m \u001b[39melse\u001b[39;00m pyvisa\u001b[39m.\u001b[39mconstants\u001b[39m.\u001b[39mAccessModes\u001b[39m.\u001b[39mexclusive_lock\n\u001b[1;32m--> 109\u001b[0m \t\u001b[39mself\u001b[39m\u001b[39m.\u001b[39m_session \u001b[39m=\u001b[39m \u001b[39mself\u001b[39;49m\u001b[39m.\u001b[39;49m_rm\u001b[39m.\u001b[39;49mopen_resource(resource_name\u001b[39m=\u001b[39;49mpure_resource_name, open_timeout\u001b[39m=\u001b[39;49msettings\u001b[39m.\u001b[39;49mopen_timeout, access_mode\u001b[39m=\u001b[39;49macc_mode)\n\u001b[0;32m    110\u001b[0m \u001b[39mexcept\u001b[39;00m pyvisa\u001b[39m.\u001b[39mVisaIOError \u001b[39mas\u001b[39;00m e:\n",
      "File \u001b[1;32mc:\\Users\\oper\\AppData\\Local\\Programs\\Python\\Python38\\lib\\site-packages\\pyvisa\\highlevel.py:3284\u001b[0m, in \u001b[0;36mResourceManager.open_resource\u001b[1;34m(self, resource_name, access_mode, open_timeout, resource_pyclass, **kwargs)\u001b[0m\n\u001b[0;32m   3279\u001b[0m         \u001b[39mraise\u001b[39;00m \u001b[39mValueError\u001b[39;00m(\n\u001b[0;32m   3280\u001b[0m             \u001b[39m\"\u001b[39m\u001b[39m%r\u001b[39;00m\u001b[39m is not a valid attribute for type \u001b[39m\u001b[39m%s\u001b[39;00m\u001b[39m\"\u001b[39m\n\u001b[0;32m   3281\u001b[0m             \u001b[39m%\u001b[39m (key, res\u001b[39m.\u001b[39m\u001b[39m__class__\u001b[39m\u001b[39m.\u001b[39m\u001b[39m__name__\u001b[39m)\n\u001b[0;32m   3282\u001b[0m         )\n\u001b[1;32m-> 3284\u001b[0m res\u001b[39m.\u001b[39;49mopen(access_mode, open_timeout)\n\u001b[0;32m   3286\u001b[0m \u001b[39mfor\u001b[39;00m key, value \u001b[39min\u001b[39;00m kwargs\u001b[39m.\u001b[39mitems():\n",
      "File \u001b[1;32mc:\\Users\\oper\\AppData\\Local\\Programs\\Python\\Python38\\lib\\site-packages\\pyvisa\\resources\\resource.py:278\u001b[0m, in \u001b[0;36mResource.open\u001b[1;34m(self, access_mode, open_timeout)\u001b[0m\n\u001b[0;32m    275\u001b[0m \u001b[39mwith\u001b[39;00m \u001b[39mself\u001b[39m\u001b[39m.\u001b[39m_resource_manager\u001b[39m.\u001b[39mignore_warning(\n\u001b[0;32m    276\u001b[0m     constants\u001b[39m.\u001b[39mStatusCode\u001b[39m.\u001b[39msuccess_device_not_present\n\u001b[0;32m    277\u001b[0m ):\n\u001b[1;32m--> 278\u001b[0m     \u001b[39mself\u001b[39m\u001b[39m.\u001b[39msession, status \u001b[39m=\u001b[39m \u001b[39mself\u001b[39;49m\u001b[39m.\u001b[39;49m_resource_manager\u001b[39m.\u001b[39;49mopen_bare_resource(\n\u001b[0;32m    279\u001b[0m         \u001b[39mself\u001b[39;49m\u001b[39m.\u001b[39;49m_resource_name, access_mode, open_timeout\n\u001b[0;32m    280\u001b[0m     )\n\u001b[0;32m    282\u001b[0m     \u001b[39mif\u001b[39;00m status \u001b[39m==\u001b[39m constants\u001b[39m.\u001b[39mStatusCode\u001b[39m.\u001b[39msuccess_device_not_present:\n\u001b[0;32m    283\u001b[0m         \u001b[39m# The device was not ready when we opened the session.\u001b[39;00m\n\u001b[0;32m    284\u001b[0m         \u001b[39m# Now it gets five seconds more to become ready.\u001b[39;00m\n\u001b[0;32m    285\u001b[0m         \u001b[39m# Every 0.1 seconds we probe it with viClear.\u001b[39;00m\n",
      "File \u001b[1;32mc:\\Users\\oper\\AppData\\Local\\Programs\\Python\\Python38\\lib\\site-packages\\pyvisa\\highlevel.py:3209\u001b[0m, in \u001b[0;36mResourceManager.open_bare_resource\u001b[1;34m(self, resource_name, access_mode, open_timeout)\u001b[0m\n\u001b[0;32m   3186\u001b[0m \u001b[39m\"\"\"Open the specified resource without wrapping into a class.\u001b[39;00m\n\u001b[0;32m   3187\u001b[0m \n\u001b[0;32m   3188\u001b[0m \u001b[39mParameters\u001b[39;00m\n\u001b[1;32m   (...)\u001b[0m\n\u001b[0;32m   3207\u001b[0m \n\u001b[0;32m   3208\u001b[0m \u001b[39m\"\"\"\u001b[39;00m\n\u001b[1;32m-> 3209\u001b[0m \u001b[39mreturn\u001b[39;00m \u001b[39mself\u001b[39;49m\u001b[39m.\u001b[39;49mvisalib\u001b[39m.\u001b[39;49mopen(\u001b[39mself\u001b[39;49m\u001b[39m.\u001b[39;49msession, resource_name, access_mode, open_timeout)\n",
      "File \u001b[1;32mc:\\Users\\oper\\AppData\\Local\\Programs\\Python\\Python38\\lib\\site-packages\\pyvisa\\ctwrapper\\functions.py:1851\u001b[0m, in \u001b[0;36mopen\u001b[1;34m(library, session, resource_name, access_mode, open_timeout)\u001b[0m\n\u001b[0;32m   1849\u001b[0m \u001b[39m# [ViSession, ViRsrc, ViAccessMode, ViUInt32, ViPSession]\u001b[39;00m\n\u001b[0;32m   1850\u001b[0m \u001b[39m# ViRsrc converts from (str, unicode, bytes) to bytes\u001b[39;00m\n\u001b[1;32m-> 1851\u001b[0m ret \u001b[39m=\u001b[39m library\u001b[39m.\u001b[39;49mviOpen(\n\u001b[0;32m   1852\u001b[0m     session, resource_name, access_mode, open_timeout, byref(out_session)\n\u001b[0;32m   1853\u001b[0m )\n\u001b[0;32m   1854\u001b[0m \u001b[39mreturn\u001b[39;00m out_session\u001b[39m.\u001b[39mvalue, ret\n",
      "File \u001b[1;32mc:\\Users\\oper\\AppData\\Local\\Programs\\Python\\Python38\\lib\\site-packages\\pyvisa\\ctwrapper\\highlevel.py:226\u001b[0m, in \u001b[0;36mIVIVisaLibrary._return_handler\u001b[1;34m(self, ret_value, func, arguments)\u001b[0m\n\u001b[0;32m    224\u001b[0m         session \u001b[39m=\u001b[39m \u001b[39mNone\u001b[39;00m\n\u001b[1;32m--> 226\u001b[0m \u001b[39mreturn\u001b[39;00m \u001b[39mself\u001b[39;49m\u001b[39m.\u001b[39;49mhandle_return_value(session, ret_value)\n",
      "File \u001b[1;32mc:\\Users\\oper\\AppData\\Local\\Programs\\Python\\Python38\\lib\\site-packages\\pyvisa\\highlevel.py:251\u001b[0m, in \u001b[0;36mVisaLibraryBase.handle_return_value\u001b[1;34m(self, session, status_code)\u001b[0m\n\u001b[0;32m    250\u001b[0m \u001b[39mif\u001b[39;00m rv \u001b[39m<\u001b[39m \u001b[39m0\u001b[39m:\n\u001b[1;32m--> 251\u001b[0m     \u001b[39mraise\u001b[39;00m errors\u001b[39m.\u001b[39mVisaIOError(rv)\n\u001b[0;32m    253\u001b[0m \u001b[39mif\u001b[39;00m rv \u001b[39min\u001b[39;00m \u001b[39mself\u001b[39m\u001b[39m.\u001b[39missue_warning_on:\n",
      "\u001b[1;31mVisaIOError\u001b[0m: VI_ERROR_RSRC_NFOUND (-1073807343): Insufficient location information or the requested device or resource is not present in the system.",
      "\nDuring handling of the above exception, another exception occurred:\n",
      "\u001b[1;31mResourceError\u001b[0m                             Traceback (most recent call last)",
      "Cell \u001b[1;32mIn[11], line 34\u001b[0m\n\u001b[0;32m     32\u001b[0m     pump \u001b[38;5;241m=\u001b[39m sma\u001b[38;5;241m.\u001b[39mManageSMA(resource) \n\u001b[0;32m     33\u001b[0m \u001b[38;5;28;01melse\u001b[39;00m:\n\u001b[1;32m---> 34\u001b[0m     drive \u001b[38;5;241m=\u001b[39m \u001b[43msma\u001b[49m\u001b[38;5;241;43m.\u001b[39;49m\u001b[43mManageSMA\u001b[49m\u001b[43m(\u001b[49m\u001b[43mresource\u001b[49m\u001b[43m)\u001b[49m \n",
      "File \u001b[1;32mc:\\Users\\oper\\Desktop\\LAB 22-23 IV anno\\lab_22_23\\Scripts\\qubit_measure\\sma.py:11\u001b[0m, in \u001b[0;36mManageSMA.__init__\u001b[1;34m(self, resource)\u001b[0m\n\u001b[0;32m      8\u001b[0m \u001b[39mdef\u001b[39;00m \u001b[39m__init__\u001b[39m(\u001b[39mself\u001b[39m, resource):\n\u001b[0;32m      9\u001b[0m     \u001b[39m\"\"\"Open connection to instrument\"\"\"\u001b[39;00m\n\u001b[1;32m---> 11\u001b[0m     \u001b[39mself\u001b[39m\u001b[39m.\u001b[39minstr \u001b[39m=\u001b[39m RsInstrument(resource)\n\u001b[0;32m     12\u001b[0m     \u001b[39mself\u001b[39m\u001b[39m.\u001b[39mmax_amplitude \u001b[39m=\u001b[39m \u001b[39m20\u001b[39m    \u001b[39m# [dBm] Max amplitude permitted to the user\u001b[39;00m\n\u001b[0;32m     14\u001b[0m     \u001b[39mpass\u001b[39;00m\n",
      "File \u001b[1;32mc:\\Users\\oper\\AppData\\Local\\Programs\\Python\\Python38\\lib\\site-packages\\RsInstrument\\RsInstrument.py:66\u001b[0m, in \u001b[0;36mRsInstrument.__init__\u001b[1;34m(self, resource_name, id_query, reset, options, direct_session)\u001b[0m\n\u001b[0;32m     26\u001b[0m \u001b[39m\"\"\"Initializes new RsInstrument session. \\n\u001b[39;00m\n\u001b[0;32m     27\u001b[0m \u001b[39mParameter options tokens examples:\u001b[39;00m\n\u001b[0;32m     28\u001b[0m \u001b[39m\t- ``Simulate=True`` - starts the session in simulation mode. Default: ``False``\u001b[39;00m\n\u001b[1;32m   (...)\u001b[0m\n\u001b[0;32m     62\u001b[0m \u001b[39m:param options: string tokens alternating the driver settings\u001b[39;00m\n\u001b[0;32m     63\u001b[0m \u001b[39m:param direct_session: Another driver object or pyVisa object to reuse the session instead of opening a new session\"\"\"\u001b[39;00m\n\u001b[0;32m     65\u001b[0m GlobalData\u001b[39m.\u001b[39mbounded_class \u001b[39m=\u001b[39m RsInstrument\n\u001b[1;32m---> 66\u001b[0m \u001b[39mself\u001b[39m\u001b[39m.\u001b[39m_core \u001b[39m=\u001b[39m Core(resource_name, id_query, reset, driver_options\u001b[39m=\u001b[39;49mRsInstrument\u001b[39m.\u001b[39;49m_driver_options_const, user_options\u001b[39m=\u001b[39;49moptions, direct_session\u001b[39m=\u001b[39;49mdirect_session)\n\u001b[0;32m     67\u001b[0m \u001b[39mself\u001b[39m\u001b[39m.\u001b[39m_core\u001b[39m.\u001b[39mdriver_version \u001b[39m=\u001b[39m RsInstrument\u001b[39m.\u001b[39m_driver_version_const\n\u001b[0;32m     68\u001b[0m \u001b[39m# Custom interfaces\u001b[39;00m\n",
      "File \u001b[1;32mc:\\Users\\oper\\AppData\\Local\\Programs\\Python\\Python38\\lib\\site-packages\\RsInstrument\\Internal\\Core.py:208\u001b[0m, in \u001b[0;36mCore.__init__\u001b[1;34m(self, resource_name, id_query, reset, driver_options, user_options, direct_session)\u001b[0m\n\u001b[0;32m    206\u001b[0m \u001b[39mself\u001b[39m\u001b[39m.\u001b[39m_args_single_list \u001b[39m=\u001b[39m ArgSingleList()\n\u001b[0;32m    207\u001b[0m handle \u001b[39m=\u001b[39m \u001b[39mself\u001b[39m\u001b[39m.\u001b[39m_resolve_direct_session(direct_session)\n\u001b[1;32m--> 208\u001b[0m \u001b[39mself\u001b[39m\u001b[39m.\u001b[39mio \u001b[39m=\u001b[39m Instrument(\u001b[39mself\u001b[39;49m\u001b[39m.\u001b[39;49mresource_name, \u001b[39mself\u001b[39;49m\u001b[39m.\u001b[39;49msimulating, \u001b[39mself\u001b[39;49m\u001b[39m.\u001b[39;49m_instrumentSettings, handle)\n\u001b[0;32m    209\u001b[0m \u001b[39mself\u001b[39m\u001b[39m.\u001b[39mio\u001b[39m.\u001b[39mquery_instr_status \u001b[39m=\u001b[39m \u001b[39mTrue\u001b[39;00m\n\u001b[0;32m    210\u001b[0m \u001b[39m# Update the resource name if it changed, for example because of the direct session\u001b[39;00m\n",
      "File \u001b[1;32mc:\\Users\\oper\\AppData\\Local\\Programs\\Python\\Python38\\lib\\site-packages\\RsInstrument\\Internal\\Instrument.py:86\u001b[0m, in \u001b[0;36mInstrument.__init__\u001b[1;34m(self, resource_name, simulate, settings, direct_session)\u001b[0m\n\u001b[0;32m     83\u001b[0m \t\u001b[39mself\u001b[39m\u001b[39m.\u001b[39m_log_end_segment()\n\u001b[0;32m     84\u001b[0m \t\u001b[39mreturn\u001b[39;00m\n\u001b[1;32m---> 86\u001b[0m \u001b[39mself\u001b[39m\u001b[39m.\u001b[39m_set_session(VisaSession(resource_name, \u001b[39mself\u001b[39;49m\u001b[39m.\u001b[39;49m_settings, direct_session))\n\u001b[0;32m     87\u001b[0m \u001b[39mself\u001b[39m\u001b[39m.\u001b[39m_init_logger(\u001b[39mself\u001b[39m\u001b[39m.\u001b[39m_session\u001b[39m.\u001b[39mresource_name)\n\u001b[0;32m     88\u001b[0m \u001b[39mself\u001b[39m\u001b[39m.\u001b[39m_log_start_segment(direct_start_time)\n",
      "File \u001b[1;32mc:\\Users\\oper\\AppData\\Local\\Programs\\Python\\Python38\\lib\\site-packages\\RsInstrument\\Internal\\VisaSession.py:115\u001b[0m, in \u001b[0;36mVisaSession.__init__\u001b[1;34m(self, resource_name, settings, direct_session)\u001b[0m\n\u001b[0;32m    113\u001b[0m \t\tmessage \u001b[39m=\u001b[39m e\u001b[39m.\u001b[39mdescription\n\u001b[0;32m    114\u001b[0m \t\tmessage \u001b[39m+\u001b[39m\u001b[39m=\u001b[39m \u001b[39mf\u001b[39m\u001b[39m\"\u001b[39m\u001b[39m\\n\u001b[39;00m\u001b[39mLibrary: \u001b[39m\u001b[39m{\u001b[39;00m\u001b[39mself\u001b[39m\u001b[39m.\u001b[39m_rm\u001b[39m.\u001b[39mvisalib\u001b[39m}\u001b[39;00m\u001b[39m\\n\u001b[39;00m\u001b[39mManufacturer: \u001b[39m\u001b[39m{\u001b[39;00m\u001b[39mself\u001b[39m\u001b[39m.\u001b[39mmanufacturer\u001b[39m}\u001b[39;00m\u001b[39m\\n\u001b[39;00m\u001b[39mResource Name: \u001b[39m\u001b[39m'\u001b[39m\u001b[39m{\u001b[39;00mresource_name\u001b[39m}\u001b[39;00m\u001b[39m'\u001b[39m\u001b[39m\"\u001b[39m\n\u001b[1;32m--> 115\u001b[0m \t\t\u001b[39mraise\u001b[39;00m InstrumentErrors\u001b[39m.\u001b[39mResourceError(resource_name, message)\n\u001b[0;32m    116\u001b[0m \t\u001b[39mself\u001b[39m\u001b[39m.\u001b[39mresource_name \u001b[39m=\u001b[39m resource_name\n\u001b[0;32m    118\u001b[0m \u001b[39m# Decide, whether to create a new thread lock or the existing one from the session\u001b[39;00m\n",
      "\u001b[1;31mResourceError\u001b[0m: Insufficient location information or the requested device or resource is not present in the system.\nLibrary: Visa Library at C:\\Windows\\system32\\visa32.dll\nManufacturer: National Instruments\nResource Name: 'TCPIP0::192.168.3.2::INSTR'"
     ]
    }
   ],
   "source": [
    "\"\"\" VNA \"\"\"\n",
    "IP = \"192.168.3.51\" # VNA IP address\n",
    "timeout = 25e5 # timeout for a VNA connection attemp (unit of measure?)\n",
    "max_npoints = 1e3 # maximum 'npoints' parameter for a single VNA scan (maybe for buffer problems?)\n",
    "\n",
    "readout = vna.ManageVNA(IP, timeout, max_npoints)\n",
    "port = \"S21\"\n",
    "IFBW = 3e1 #[Hz]\n",
    "\n",
    "readout.reset()\n",
    "readout.set_mode(\"NA\")\n",
    "time.sleep(1)\n",
    "readout.set_port(port)\n",
    "time.sleep(1)\n",
    "readout.set_IFBW(IFBW)\n",
    "\n",
    "\"\"\" Phase Matrix \n",
    "note: 'PhaseMatrix_fsw' class supports methods that are not compatible with the device.\n",
    "IMPORTANT: \n",
    "- the drive power IS NOT CONTROLLABLE. The drive power is fixed at +15 dBm and must be attenuated.\n",
    "- always check that method 'setFrequencyGHz' of 'PhaseMatrix_fsw' actually sends the pulse at the set frequency.\n",
    "- The phase matrix metallic box heats up a lot. Is that healthy?\n",
    "\"\"\"\n",
    "if use_paramp:\n",
    "    drive = phase_matrix.PhaseMatrix_fsw()\n",
    "\n",
    "\"\"\" SMA\n",
    "note: if parametric amplifier is not used or turned off, SMA may be a better qubit drive than Phase Matrix (power is software-tunable)!\n",
    "\"\"\"\n",
    "resource = 'TCPIP0::192.168.3.2::INSTR'\n",
    "if use_paramp:\n",
    "    pump = sma.ManageSMA(resource) \n",
    "else:\n",
    "    drive = sma.ManageSMA(resource) "
   ]
  },
  {
   "cell_type": "code",
   "execution_count": null,
   "metadata": {},
   "outputs": [],
   "source": []
  }
 ],
 "metadata": {
  "kernelspec": {
   "display_name": "Python 3.8.8 64-bit",
   "language": "python",
   "name": "python3"
  },
  "language_info": {
   "codemirror_mode": {
    "name": "ipython",
    "version": 3
   },
   "file_extension": ".py",
   "mimetype": "text/x-python",
   "name": "python",
   "nbconvert_exporter": "python",
   "pygments_lexer": "ipython3",
   "version": "3.8.8"
  },
  "orig_nbformat": 4,
  "vscode": {
   "interpreter": {
    "hash": "189b550c5a54b5087499bdd5ba77e857e00a6effe232207122d63c93e93ce421"
   }
  }
 },
 "nbformat": 4,
 "nbformat_minor": 2
}
